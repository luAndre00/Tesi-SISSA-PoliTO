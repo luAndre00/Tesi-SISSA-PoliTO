{
 "cells": [
  {
   "cell_type": "markdown",
   "id": "ff9688c7-fe75-4ba9-bce8-03d2babb787b",
   "metadata": {},
   "source": [
    "# PARAMETRIC ELLIPTIC OPTIMAL CONTROL"
   ]
  },
  {
   "cell_type": "markdown",
   "id": "543e8d25-9727-4476-afd0-2523e4517027",
   "metadata": {},
   "source": [
    "# Import di tutti i pacchetti"
   ]
  },
  {
   "cell_type": "code",
   "execution_count": 128,
   "id": "de22888d-5875-4dad-8833-b1d005e21c2c",
   "metadata": {},
   "outputs": [],
   "source": [
    "nome = 'nome' #Nome che voglio dare alla simulazione così da distinguere loss e plot per tutto\n",
    "\n",
    "import argparse\n",
    "import numpy as np\n",
    "import torch\n",
    "import matplotlib.pyplot as plt\n",
    "from torch.nn import Softplus\n",
    "\n",
    "#Questo serve a fare in modo che tutti i problemi abbiano come riferimento la stessa cartella di PINA\n",
    "#così non si creano versioni diverse o sovrapposizioni\n",
    "import sys\n",
    "sys.path.append('C:/Users/Andrea/Desktop/Poli/Tesi magistrale/reporitory_SISSA_PoliTO')\n",
    "\n",
    "from pina import LabelTensor\n",
    "from pina.solvers import PINN\n",
    "from pina.model import MultiFeedForward\n",
    "from pina.plotter import Plotter\n",
    "from pina.trainer import Trainer\n",
    "from pina.model import FeedForward\n",
    "from pina.callbacks import MetricTracker\n",
    "\n",
    "from pina import Condition\n",
    "from pina.geometry import CartesianDomain\n",
    "from pina.equation import SystemEquation, FixedValue\n",
    "from pina.problem import SpatialProblem, ParametricProblem\n",
    "from pina.operators import laplacian"
   ]
  },
  {
   "cell_type": "markdown",
   "id": "ffdfa063-7a23-486c-8c0a-f519164f4759",
   "metadata": {},
   "source": [
    "# Definizione del problema\n",
    "Il problema di base ha due parametri che sono \n",
    "- $\\mu\\in[0.5, 3]$ \n",
    "- $\\alpha\\in[0.01,1]$"
   ]
  },
  {
   "cell_type": "code",
   "execution_count": 129,
   "id": "102e31c4-0b6a-4878-9a4f-23f3ebe4250a",
   "metadata": {},
   "outputs": [],
   "source": [
    "# ===================================================== #                                        \n",
    "#           u --> field variable                        #\n",
    "#           p --> field variable                        #\n",
    "#           y --> field variable                        #\n",
    "#           x1, x2 --> spatial variables                #\n",
    "#           mu, alpha --> problem parameters            #\n",
    "#                                                       #\n",
    "#           https://arxiv.org/pdf/2110.13530.pdf        #                         \n",
    "# ===================================================== #\n",
    "\n",
    "\n",
    "class ParametricEllipticOptimalControl(SpatialProblem, ParametricProblem):\n",
    "\n",
    "    # setting spatial variables ranges\n",
    "    xmin, xmax, ymin, ymax = -1, 1, -1, 1\n",
    "    x_range = [xmin, xmax]\n",
    "    y_range = [ymin, ymax]\n",
    "    # setting parameters range\n",
    "    amin, amax = 0.01, 1\n",
    "    mumin, mumax = 0.5, 3\n",
    "    mu_range = [mumin, mumax]\n",
    "    a_range = [amin, amax]\n",
    "    # setting field variables\n",
    "    output_variables = ['u', 'y', 'p']\n",
    "    # setting spatial and parameter domain\n",
    "    spatial_domain = CartesianDomain({'x1': x_range, 'x2': y_range})\n",
    "    parameter_domain = CartesianDomain({'mu': mu_range, 'alpha': a_range})\n",
    "\n",
    "    # equation terms as in https://arxiv.org/pdf/2110.13530.pdf\n",
    "    def term1(input_, output_):\n",
    "        laplace_p = laplacian(output_, input_, components=['p'], d = ['x1', 'x2'])\n",
    "        return output_.extract(['y']) - input_.extract(['mu']) - laplace_p\n",
    "\n",
    "    def term2(input_, output_):\n",
    "        laplace_y = laplacian(output_, input_, components=['y'], d = ['x1', 'x2'])\n",
    "        return - laplace_y - output_.extract(['u'])\n",
    "    \n",
    "    def fixed_y(input_, output_):\n",
    "        return output_.extract(['y'])\n",
    "\n",
    "    # NOTA BENE, qui la condizione si trova su u e non su p perché p lo si calcola tramite il passo forward del PI-Arch,\n",
    "    # la condizione si \"trasferisce\" naturalmente tramite il passo, non avrebbe senso porla qui su p perché tanto non me lo calcolo\n",
    "    # proprio\n",
    "    def fixed_u(input_, output_):\n",
    "        return output_.extract(['u']) \n",
    "\n",
    "    # setting problem condition formulation\n",
    "    conditions = {\n",
    "        'gamma1': Condition(\n",
    "            location=CartesianDomain({'x1': x_range, 'x2':  1, 'mu': mu_range, 'alpha': a_range}),\n",
    "            equation=SystemEquation([fixed_y, fixed_u])),\n",
    "        'gamma2': Condition(\n",
    "            location=CartesianDomain({'x1': x_range, 'x2': -1, 'mu': mu_range, 'alpha': a_range}),\n",
    "            equation=SystemEquation([fixed_y, fixed_u])),\n",
    "        'gamma3': Condition(\n",
    "            location=CartesianDomain({'x1':  1, 'x2': y_range, 'mu': mu_range, 'alpha': a_range}),\n",
    "            equation=SystemEquation([fixed_y, fixed_u])),\n",
    "        'gamma4': Condition(\n",
    "            location=CartesianDomain({'x1': -1, 'x2': y_range, 'mu': mu_range, 'alpha': a_range}),\n",
    "            equation=SystemEquation([fixed_y, fixed_u])),\n",
    "        'D': Condition(location = CartesianDomain({'x1': x_range, 'x2': y_range, 'mu': mu_range, 'alpha': a_range}), equation=SystemEquation([term1, term2])),\n",
    "    }"
   ]
  },
  {
   "cell_type": "markdown",
   "id": "4e0d6bb5-da82-41c2-8132-b9c64ee8fc61",
   "metadata": {},
   "source": [
    "# DEFINIZIONE ARCHITETTURA DELLA PINN"
   ]
  },
  {
   "cell_type": "code",
   "execution_count": 130,
   "id": "166e0686-3994-4d9c-a1ce-7dd2ebc3fa5e",
   "metadata": {},
   "outputs": [],
   "source": [
    "#EXTRA FEATURE\n",
    "class myFeature(torch.nn.Module):\n",
    "    \n",
    "    def __init__(self):\n",
    "        super(myFeature, self).__init__()\n",
    "\n",
    "    def forward(self, x):\n",
    "        t = (-x.extract(['x1'])**2+1) * (-x.extract(['x2'])**2+1)\n",
    "        return LabelTensor(t, ['k0'])\n",
    "\n",
    "\n",
    "#FORWARD\n",
    "class CustomMultiDFF(MultiFeedForward):\n",
    "\n",
    "    def __init__(self, dff_dict):\n",
    "        super().__init__(dff_dict)\n",
    "\n",
    "    #Original forward\n",
    "    def forward(self, x):\n",
    "        out = self.uu(x)\n",
    "        out.labels = ['u', 'y']\n",
    "        p = LabelTensor((out.extract(['u']) * x.extract(['alpha'])), ['p'])\n",
    "        \n",
    "        return out.append(p)"
   ]
  },
  {
   "cell_type": "code",
   "execution_count": 131,
   "id": "dbbf68be-daca-46e7-b28d-5ed632768754",
   "metadata": {},
   "outputs": [
    {
     "name": "stderr",
     "output_type": "stream",
     "text": [
      "GPU available: False, used: False\n",
      "TPU available: False, using: 0 TPU cores\n",
      "IPU available: False, using: 0 IPUs\n",
      "HPU available: False, using: 0 HPUs\n",
      "\n",
      "  | Name        | Type    | Params\n",
      "----------------------------------------\n",
      "0 | _loss       | MSELoss | 0     \n",
      "1 | _neural_net | Network | 2.7 K \n",
      "----------------------------------------\n",
      "2.7 K     Trainable params\n",
      "0         Non-trainable params\n",
      "2.7 K     Total params\n",
      "0.011     Total estimated model params size (MB)\n",
      "C:\\Users\\Andrea\\anaconda3\\envs\\PINA2\\lib\\site-packages\\pytorch_lightning\\loops\\fit_loop.py:280: PossibleUserWarning: The number of training batches (1) is smaller than the logging interval Trainer(log_every_n_steps=50). Set a lower value for log_every_n_steps if you want to see logs for the training epoch.\n",
      "  rank_zero_warn(\n"
     ]
    },
    {
     "name": "stdout",
     "output_type": "stream",
     "text": [
      "Epoch 0: 100%|██████████| 1/1 [00:00<00:00,  2.96it/s, v_num=37, gamma1_loss=0.0245, gamma2_loss=0.0251, gamma3_loss=0.0264, gamma4_loss=0.0234, D_loss=1.440, mean_loss=0.308]"
     ]
    },
    {
     "name": "stderr",
     "output_type": "stream",
     "text": [
      "`Trainer.fit` stopped: `max_epochs=1` reached.\n"
     ]
    },
    {
     "name": "stdout",
     "output_type": "stream",
     "text": [
      "Epoch 0: 100%|██████████| 1/1 [00:00<00:00,  2.86it/s, v_num=37, gamma1_loss=0.0245, gamma2_loss=0.0251, gamma3_loss=0.0264, gamma4_loss=0.0234, D_loss=1.440, mean_loss=0.308]\n"
     ]
    }
   ],
   "source": [
    "if __name__ == \"__main__\":\n",
    "    \n",
    "    seed = 316680\n",
    "    torch.manual_seed(seed)\n",
    "    \n",
    "    epochs = 1\n",
    "    flag_extra_feature = 1\n",
    "    \n",
    "    parser = argparse.ArgumentParser(description = \"Run PINA\")\n",
    "    parser.add_argument(\"--load\", help = \"directory to save or load file\", type = str)\n",
    "    parser.add_argument(\"--features\", help = \"extra features\", type = int, default = flag_extra_feature)\n",
    "    parser.add_argument(\"--epochs\", help = \"extra features\", type = int, default = epochs)\n",
    "    parser.add_argument('-f') #Serve per risolvere l'errore di sotto\n",
    "    args = parser.parse_args()\n",
    "    \n",
    "    if args.features is None:\n",
    "        args.features = 0\n",
    "    \n",
    "    # extra features\n",
    "    feat = [myFeature()] if args.features else []\n",
    "    args = parser.parse_args()\n",
    "    \n",
    "    # create problem and discretise domain\n",
    "    opc = ParametricEllipticOptimalControl()\n",
    "    opc.discretise_domain(n = 10, mode='grid', variables = ['x1', 'x2'], locations = ['D'])\n",
    "    opc.discretise_domain(n = 10, mode='grid', variables = ['mu', 'alpha'], locations = ['D'])\n",
    "    opc.discretise_domain(n = 10, mode='grid', variables = ['x1', 'x2'], locations = ['gamma1', 'gamma2', 'gamma3', 'gamma4'])\n",
    "    opc.discretise_domain(n = 10, mode='grid', variables = ['mu', 'alpha'], locations = ['gamma1', 'gamma2', 'gamma3', 'gamma4'])\n",
    "\n",
    "    # Questo comando serve per plottare i samples se dovesse servire\n",
    "    # plt.scatter(opc.input_pts['D'].extract(['alpha']), opc.input_pts['D'].extract(['mu']))\n",
    "    \n",
    "    # Architettura\n",
    "    model = CustomMultiDFF( \n",
    "        {\n",
    "            'uu': {\n",
    "                'input_dimensions': 4 + len(feat),  #due input spaziali più due parametri + l'extra feature\n",
    "                'output_dimensions': 2,\n",
    "                'layers': [40, 40, 20],\n",
    "                'func': Softplus,\n",
    "            },\n",
    "        }\n",
    "    )    \n",
    "    \n",
    "    # Creazione dell''stanza di PINN\n",
    "    pinn = PINN(problem = opc, model = model, optimizer_kwargs = {'lr' : 0.002}, extra_features = feat)\n",
    "    \n",
    "    # Creazione di istanza di Trainer\n",
    "    directory = 'pina.parametric_optimal_control_{}'.format(bool(args.features))\n",
    "    trainer = Trainer(solver = pinn, accelerator='cpu', max_epochs = args.epochs, default_root_dir = directory)\n",
    "    \n",
    "    # callbacks = [MetricTracker()] questo si può usare solo se ho abbastanza spazio, è molto pesante, serve per plottare la loss\n",
    "\n",
    "    #Training\n",
    "    trainer.train()"
   ]
  },
  {
   "cell_type": "markdown",
   "id": "fd1aaec4-49ad-4570-9cfc-c87461d96f76",
   "metadata": {},
   "source": [
    "# GRAFICI"
   ]
  },
  {
   "cell_type": "code",
   "execution_count": 127,
   "id": "3d8c1187-09c7-4ccd-b913-4316a7317702",
   "metadata": {},
   "outputs": [],
   "source": [
    "plotter = Plotter()\n",
    "plotter.plot(pinn, fixed_variables={'mu': 3, 'alpha': 1}, components='u', filename = nome + '_u.pdf') "
   ]
  },
  {
   "cell_type": "code",
   "execution_count": 7,
   "id": "be675fd3-490d-49e8-a165-8203673ff172",
   "metadata": {},
   "outputs": [],
   "source": [
    "plotter = Plotter()\n",
    "plotter.plot(pinn, fixed_variables={'mu': 3, 'alpha': 1}, components='y', filename = nome + '_y.pdf')"
   ]
  },
  {
   "cell_type": "code",
   "execution_count": 8,
   "id": "30e2a18c-f734-45cf-94bf-83aa5e83e30c",
   "metadata": {},
   "outputs": [],
   "source": [
    "plotter = Plotter()\n",
    "plotter.plot(pinn, fixed_variables={'mu': 3, 'alpha': 1}, components='p', filename = nome + '_p.pdf')"
   ]
  },
  {
   "cell_type": "markdown",
   "id": "24bb99f6-2e38-40a7-a83b-ffc2a16dc34f",
   "metadata": {},
   "source": [
    "# Loss"
   ]
  },
  {
   "cell_type": "code",
   "execution_count": null,
   "id": "8fda1ce0-36ab-4c80-8e14-e31be1518153",
   "metadata": {},
   "outputs": [],
   "source": [
    "#Qui salvo la loss function\n",
    "andamento_loss = trainer._model.lossVec\n",
    "def salva_variabile(file, variabile):\n",
    "    with open(file, 'w') as f:\n",
    "        f.write(repr(variabile))\n",
    "\n",
    "# Chiama la funzione per salvare la variabile\n",
    "salva_variabile('loss_'+ nome +'.txt', andamento_loss) #Qui per salvare la loss\n",
    "\n",
    "# Grafico loss\n",
    "plt.loglog(andamento_loss)\n",
    "plt.gcf().savefig(nome + 'grafico_loss.pdf', format='pdf') # Qui per salvare il grafico della loss"
   ]
  },
  {
   "cell_type": "markdown",
   "id": "15c7d0b4-fc20-4407-a61c-4064c713f158",
   "metadata": {},
   "source": [
    "# Calcolo della norma L2\n",
    "Per farlo estraggo prima i risultati da una simulazione FEM"
   ]
  },
  {
   "cell_type": "code",
   "execution_count": 112,
   "id": "e03288a6-4211-4a5b-aa78-f8facf455c2d",
   "metadata": {},
   "outputs": [],
   "source": [
    "n = 638\n",
    "fem_u = torch.tensor(np.load(\"C:/Users/Andrea/Desktop/Poli/Tesi magistrale/reporitory_SISSA_PoliTO/Codici_notebook/Parametric_elliptic/FEM_Elliptic/alpha_1/control.npy\"), dtype=torch.float).view(-1, 1)\n",
    "fem_p = torch.tensor(np.load(\"C:/Users/Andrea/Desktop/Poli/Tesi magistrale/reporitory_SISSA_PoliTO/Codici_notebook/Parametric_elliptic/FEM_Elliptic/alpha_1/adjoint.npy\"), dtype=torch.float).view(-1, 1)\n",
    "fem_y = torch.tensor(np.load(\"C:/Users/Andrea/Desktop/Poli/Tesi magistrale/reporitory_SISSA_PoliTO/Codici_notebook/Parametric_elliptic/FEM_Elliptic/alpha_1/state.npy\"), dtype=torch.float).view(-1, 1)\n",
    "fem_x = torch.tensor(np.load(\"C:/Users/Andrea/Desktop/Poli/Tesi magistrale/reporitory_SISSA_PoliTO/Codici_notebook/Parametric_elliptic/FEM_Elliptic/alpha_1/x.npy\"), dtype=torch.float).view(-1, 1)                                \n",
    "fem_y = torch.tensor(np.load(\"C:/Users/Andrea/Desktop/Poli/Tesi magistrale/reporitory_SISSA_PoliTO/Codici_notebook/Parametric_elliptic/FEM_Elliptic/alpha_1/y.npy\"), dtype=torch.float).view(-1, 1)\n"
   ]
  },
  {
   "cell_type": "code",
   "execution_count": 119,
   "id": "284daa69-e6e0-40e2-9a60-77434d059921",
   "metadata": {},
   "outputs": [],
   "source": [
    "x_labelT = LabelTensor(fem_x, ['x1'])\n",
    "y_labelT = LabelTensor(fem_y, ['x2'])\n",
    "mu_labelT = LabelTensor(torch.full((n,), 3, dtype=torch.float).view(-1, 1), ['mu']) \n",
    "alfa_labelT = LabelTensor(torch.full((n,), 1, dtype=torch.float).view(-1, 1), ['alpha'])\n",
    "input = x_labelT.append(y_labelT).append(mu_labelT).append(alfa_labelT)\n",
    "\n",
    "output = pinn.forward(input)\n",
    "output.labels = ['u', 'y', 'p']\n",
    "\n",
    "errore_u = (output.extract(['u']) - fem_u).reshape(n,)\n",
    "errore_y = (output.extract(['y']) - fem_y).reshape(n,)\n",
    "errore_p = (output.extract(['p']) - fem_p).reshape(n,)\n",
    "\n",
    "norma_errore_u = torch.dot(errore_u, errore_u).item()\n",
    "norma_errore_y = torch.dot(errore_y, errore_y).item()\n",
    "norma_errore_p = torch.dot(errore_p, errore_p).item()\n",
    "\n",
    "with open(nome + 'l2_errors.txt', 'w') as file:\n",
    "    file.write(f\"norma_errore_u = {norma_errore_u}\\n\")\n",
    "    file.write(f\"norma_errore_y = {norma_errore_y}\\n\")\n",
    "    file.write(f\"norma_errore_p = {norma_errore_p}\\n\")"
   ]
  },
  {
   "cell_type": "code",
   "execution_count": null,
   "id": "ed2ca133-5fe6-4ed9-97c6-a49b95332d0f",
   "metadata": {},
   "outputs": [],
   "source": []
  }
 ],
 "metadata": {
  "kernelspec": {
   "display_name": "Python 3 (ipykernel)",
   "language": "python",
   "name": "python3"
  },
  "language_info": {
   "codemirror_mode": {
    "name": "ipython",
    "version": 3
   },
   "file_extension": ".py",
   "mimetype": "text/x-python",
   "name": "python",
   "nbconvert_exporter": "python",
   "pygments_lexer": "ipython3",
   "version": "3.9.19"
  }
 },
 "nbformat": 4,
 "nbformat_minor": 5
}
