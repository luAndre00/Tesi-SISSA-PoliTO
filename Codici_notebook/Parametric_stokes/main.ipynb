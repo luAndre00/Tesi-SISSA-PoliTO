{
 "cells": [
  {
   "cell_type": "markdown",
   "id": "b78cfae5-d28b-4da4-8842-3c363529a755",
   "metadata": {},
   "source": [
    "# PROBLEMA DI STOKES"
   ]
  },
  {
   "cell_type": "markdown",
   "id": "1fcf116a-5191-401b-8bf7-c311da3eb7c2",
   "metadata": {},
   "source": [
    "# Import di tutti i pacchetti"
   ]
  },
  {
   "cell_type": "code",
   "execution_count": 52,
   "id": "df53a4e6-30de-4ba2-b31f-0049f249761a",
   "metadata": {},
   "outputs": [],
   "source": [
    "nome = 'nome' #Nome che voglio dare alla simulazione così da distinguere loss e plot per tutto\n",
    "\n",
    "import torch\n",
    "\n",
    "import sys\n",
    "sys.path.append('C:/Users/Andrea/Desktop/Poli/Tesi magistrale/reporitory_SISSA_PoliTO')\n",
    "\n",
    "from pina.problem import SpatialProblem, ParametricProblem\n",
    "from pina.operators import laplacian, grad, div\n",
    "from pina import Condition, LabelTensor\n",
    "from pina.geometry import CartesianDomain\n",
    "from pina.equation import SystemEquation, Equation\n",
    "from pina.model import MultiFeedForward\n",
    "\n",
    "import argparse\n",
    "from torch.nn import Softplus\n",
    "\n",
    "from pina import Plotter, Trainer\n",
    "from pina.model import FeedForward\n",
    "from pina.solvers import PINN"
   ]
  },
  {
   "cell_type": "markdown",
   "id": "d2320484-6eac-41c8-831c-0c0c5615ee7c",
   "metadata": {},
   "source": [
    "# Definizione del problema\n",
    "Questo problema ha un unico parametro\n",
    "- $\\mu\\in[0.5,1.5]$"
   ]
  },
  {
   "cell_type": "code",
   "execution_count": 53,
   "id": "ea8128aa-b843-4f62-872d-5fd29129fc0a",
   "metadata": {},
   "outputs": [],
   "source": [
    "\"\"\"Stokes Problem \"\"\"\n",
    "# ===================================================== #\n",
    "#             The Stokes class is defined               #\n",
    "#       inheriting from SpatialProblem. We  denote:     #\n",
    "#           ux --> field variable velocity along x      #\n",
    "#           uy --> field variable velocity along y      #\n",
    "#           p --> field variable pressure               #\n",
    "#           x,y --> spatial variables                   #\n",
    "#                                                       #\n",
    "#           https://arx#iv.org/pdf/2110.13530.pdf       #\n",
    "# ===================================================== #\n",
    "alfa = 0.008\n",
    "\n",
    "class Stokes(SpatialProblem, ParametricProblem):\n",
    "\n",
    "    # assign output/ spatial variables\n",
    "    output_variables = ['vx', 'vy', 'p', 'ux', 'uy', 'r', 'zx', 'zy'] \n",
    "    #vx, vy is the 2-dim state variable, #ux, uy is the 2-dim control variable. \n",
    "    xmin = 0\n",
    "    xmax = 1\n",
    "    ymin = 0\n",
    "    ymax = 2\n",
    "    mumin = 0.5\n",
    "    mumax = 1.5\n",
    "\n",
    "    xrange = [xmin, xmax]\n",
    "    yrange = [ymin, ymax]\n",
    "    murange = [mumin, mumax]\n",
    "    \n",
    "    #r è la variabile aggiunta della pressione, z è la aggiunta del campo di velocità\n",
    "    spatial_domain = CartesianDomain({'x': xrange, 'y': yrange})\n",
    "    parameter_domain = CartesianDomain({'mu': murange})\n",
    "\n",
    "\n",
    "\n",
    "\n",
    "    \n",
    "    #Prima ci sono tutte le equazioni sulle variabili aggiunte, poi tutte quelle per le variabili non aggiunte\n",
    "    # PDE\n",
    "    def momentum_ad_x(input_, output_):\n",
    "        delta = laplacian(output_, input_, components = ['zx'], d = ['x'])\n",
    "        return -0.1 * delta + grad(output_, input_, components = ['r'], d = ['x']) - input_.extract(['y']) + output_.extract(['vx']) \n",
    "            \n",
    "    def momentum_ad_y(input_, output_):\n",
    "        delta = laplacian(output_, input_, components = ['zy'], d = ['y'])\n",
    "        return -0.1 * delta + grad(output_, input_, components = ['r'], d = ['y']) \n",
    "    \n",
    "    def continuity_ad(input_, output_):\n",
    "        return grad(output_, input_, components = ['zx'], d = ['x']) + grad(output_, input_, components = ['zy'], d = ['y'])\n",
    "\n",
    "    # BOUNDARY CONDITIONS on adjuncted variables\n",
    "    # Dirichlet\n",
    "    def dirichlet1_ad(input_, output_):\n",
    "        return output_.extract(['zx'])\n",
    "\n",
    "    def dirichlet2_ad(input_, output_):\n",
    "        return output_.extract(['zy'])\n",
    "\n",
    "    # Neumann\n",
    "    def neumann1_ad(input_, output_):\n",
    "        return -output_.extract(['r']) + 0.1*grad(output_, input_, components = ['zx'], d = ['x'])\n",
    "    def neumann2_ad(input_, output_):\n",
    "        return output_.extract(['zy'])\n",
    "\n",
    "    ############################################################################\n",
    "\n",
    "    # Momentum Equations\n",
    "    def momentum_x(input_, output_):\n",
    "        delta = laplacian(output_, input_, components = ['vx'], d = ['x'])\n",
    "        return -0.1 * delta + grad(output_, input_, components = ['p'], d = ['x'])  - output_.extract(['ux'])\n",
    " \n",
    "    def momentum_y(input_, output_):\n",
    "        delta = laplacian(output_, input_, components = ['vy'], d = ['y'])\n",
    "        return -0.1 * delta + grad(output_, input_, components = ['p'], d = ['y']) + input_.extract(['mu'])  - output_.extract(['uy'])\n",
    "\n",
    "    # Continuity equation\n",
    "    def continuity(input_, output_):\n",
    "        return grad(output_, input_, components = ['vx'], d = ['x']) + grad(output_, input_, components = ['vy'], d = ['y'])\n",
    "\n",
    "    # BOUNDARY CONDITIONS on principal variable\n",
    "    # Dirichlet\n",
    "    def dirichlet1(input_, output_):\n",
    "        return output_.extract(['vx']) - input_.extract(['y'])\n",
    "\n",
    "    def dirichlet2(input_, output_):\n",
    "        return output_.extract(['vy'])\n",
    "\n",
    "    # Neumann\n",
    "    def neumann1(input_, output_):\n",
    "        return -output_.extract(['p']) + 0.1*grad(output_, input_, components = ['vx'], d = ['x'])\n",
    "\n",
    "    def neumann2(input_, output_):\n",
    "        return output_.extract(['vy'])\n",
    "\n",
    "\n",
    "    \n",
    "    \n",
    "    #Problem Statement\n",
    "    conditions = {\n",
    "        'gamma_above': Condition(location=CartesianDomain({'x': xrange, 'y':  2, 'mu': murange}), equation=SystemEquation([dirichlet1, dirichlet2, dirichlet1_ad, dirichlet2_ad])), #Dirichlet\n",
    "        'gamma_left': Condition(location=CartesianDomain({'x': 0, 'y': yrange, 'mu': murange}), equation=SystemEquation([dirichlet1, dirichlet2, dirichlet1_ad, dirichlet2_ad])), #Dirichlet\n",
    "        'gamma_below': Condition(location=CartesianDomain({'x':  xrange, 'y': 0, 'mu': murange}), equation=SystemEquation([dirichlet1, dirichlet2, dirichlet1_ad, dirichlet2_ad])), #Dirichlet\n",
    "        'gamma_right':  Condition(location=CartesianDomain({'x': 1, 'y': yrange, 'mu': murange}), equation=SystemEquation([neumann1, neumann2, neumann1_ad, neumann2_ad])), #Neumann\n",
    "        'D': Condition(location=CartesianDomain({'x': xrange, 'y': yrange, 'mu': murange}), equation=SystemEquation([momentum_x,momentum_y,continuity, \n",
    "                                                                                                                     momentum_ad_x,momentum_ad_y,continuity_ad]))\n",
    "    }\n"
   ]
  },
  {
   "cell_type": "markdown",
   "id": "6f781f26-3964-4582-9637-96b45781201d",
   "metadata": {},
   "source": [
    "# DEFINIZIONE ARCHITETTURA DELLA PINN"
   ]
  },
  {
   "cell_type": "code",
   "execution_count": 54,
   "id": "bf500ecc-ebc9-47c9-991b-9fc1880a66f7",
   "metadata": {},
   "outputs": [],
   "source": [
    "class CustomMultiDFF(MultiFeedForward):\n",
    "\n",
    "    def __init__(self, dff_dict):\n",
    "        super().__init__(dff_dict)\n",
    "\n",
    "    #Questo si usa al posto della equazione che \"manca\", altrimenti viene male\n",
    "    def forward(self, x):\n",
    "        out = self.uu(x)\n",
    "        out.labels = ['vx', 'vy', 'p', 'ux', 'uy', 'r']\n",
    "        z = LabelTensor(alfa*out.extract(['ux', 'uy']), ['zx', 'zy'])\n",
    "        \n",
    "        return out.append(z)"
   ]
  },
  {
   "cell_type": "code",
   "execution_count": 55,
   "id": "83a5dc26-3e65-4baf-aa1f-5c4b442a6490",
   "metadata": {},
   "outputs": [
    {
     "name": "stderr",
     "output_type": "stream",
     "text": [
      "GPU available: False, used: False\n",
      "TPU available: False, using: 0 TPU cores\n",
      "IPU available: False, using: 0 IPUs\n",
      "HPU available: False, using: 0 HPUs\n",
      "\n",
      "  | Name        | Type    | Params\n",
      "----------------------------------------\n",
      "0 | _loss       | MSELoss | 0     \n",
      "1 | _neural_net | Network | 5.3 K \n",
      "----------------------------------------\n",
      "5.3 K     Trainable params\n",
      "0         Non-trainable params\n",
      "5.3 K     Total params\n",
      "0.021     Total estimated model params size (MB)\n"
     ]
    },
    {
     "name": "stdout",
     "output_type": "stream",
     "text": [
      "Epoch 9: 100%|██████████| 1/1 [00:00<00:00,  1.69it/s, v_num=17, gamma_above_loss=0.0721, gamma_left_loss=0.0209, gamma_below_loss=0.0513, gamma_right_loss=0.00301, D_loss=0.0132, mean_loss=0.0321]"
     ]
    },
    {
     "name": "stderr",
     "output_type": "stream",
     "text": [
      "`Trainer.fit` stopped: `max_epochs=10` reached.\n"
     ]
    },
    {
     "name": "stdout",
     "output_type": "stream",
     "text": [
      "Epoch 9: 100%|██████████| 1/1 [00:00<00:00,  1.66it/s, v_num=17, gamma_above_loss=0.0721, gamma_left_loss=0.0209, gamma_below_loss=0.0513, gamma_right_loss=0.00301, D_loss=0.0132, mean_loss=0.0321]\n"
     ]
    }
   ],
   "source": [
    "if __name__ == \"__main__\":\n",
    "    \n",
    "    seed = 316680\n",
    "    torch.manual_seed(seed)\n",
    "    \n",
    "    epochs = 10\n",
    "\n",
    "    parser = argparse.ArgumentParser(description=\"Run PINA\")\n",
    "    parser.add_argument(\"--load\", help = \"directory to save or load file\", type = str)\n",
    "    parser.add_argument(\"--epochs\", help = \"extra features\", type = int, default = epochs)\n",
    "    parser.add_argument('-f') #Serve per risolvere l'errore di sotto\n",
    "    args = parser.parse_args()\n",
    "    \n",
    "    # create problem and discretise domain\n",
    "    stokes_opc = Stokes()\n",
    "    stokes_opc.discretise_domain(n = 1800, mode = 'lh', variables = ['x', 'y'], locations = ['gamma_above', 'gamma_left', 'gamma_below', 'gamma_right'])\n",
    "    stokes_opc.discretise_domain(n = 400, mode = 'lh', variables = ['x', 'y'], locations = ['D'])\n",
    "    stokes_opc.discretise_domain(n = 10, mode = 'lh', variables = ['mu'], locations = ['gamma_above', 'gamma_left', 'gamma_below', 'gamma_right'])\n",
    "    stokes_opc.discretise_domain(n = 10, mode = 'lh', variables = ['mu'], locations = ['D'])\n",
    "    \n",
    "    # make the model\n",
    "    model = CustomMultiDFF(\n",
    "        {'uu': {\n",
    "                'input_dimensions': 3,\n",
    "                'output_dimensions': 6,\n",
    "                'layers': [40, 40, 40, 40],\n",
    "                'func': Softplus, },})\n",
    "    \n",
    "    # make the pinn\n",
    "    pinn = PINN(problem = stokes_opc, model = model, optimizer_kwargs={'lr' : 0.003})\n",
    "    \n",
    "    # create trainer\n",
    "    directory = 'pina.navier_stokes'\n",
    "    trainer = Trainer(solver=pinn, accelerator='cpu', max_epochs=args.epochs, default_root_dir=directory)\n",
    "\n",
    "    #Training\n",
    "    trainer.train()"
   ]
  },
  {
   "cell_type": "markdown",
   "id": "26915ea7-ca63-4165-b151-1d4164f5a8b6",
   "metadata": {},
   "source": [
    "# GRAFICI"
   ]
  },
  {
   "cell_type": "code",
   "execution_count": null,
   "id": "855eb829-3edf-4d14-ae6a-ca8dcb3a7143",
   "metadata": {},
   "outputs": [],
   "source": [
    "plotter = Plotter()\n",
    "plotter.plot(pinn, fixed_variables={'mu': 0}, components='vx')\n",
    "plt.gcf().savefig(nome + '_vx.pdf', format='pdf')"
   ]
  },
  {
   "cell_type": "code",
   "execution_count": null,
   "id": "69569b09-bea2-419c-865b-775b8ce46166",
   "metadata": {},
   "outputs": [],
   "source": [
    "plotter = Plotter()\n",
    "plotter.plot(pinn, fixed_variables={'mu': 0}, components='vy')\n",
    "plt.gcf().savefig(nome + '_vy.pdf', format='pdf')"
   ]
  },
  {
   "cell_type": "code",
   "execution_count": null,
   "id": "ac70df5d-09dd-4a44-9b4c-f7c1183c1ace",
   "metadata": {},
   "outputs": [],
   "source": [
    "plotter = Plotter()\n",
    "plotter.plot(pinn, fixed_variables={'mu': 0}, components='ux')\n",
    "plt.gcf().savefig(nome + '_ux.pdf', format='pdf')"
   ]
  },
  {
   "cell_type": "code",
   "execution_count": null,
   "id": "322032af-242d-4036-a687-705b4bc33e6c",
   "metadata": {},
   "outputs": [],
   "source": [
    "plotter = Plotter()\n",
    "plotter.plot(pinn, fixed_variables={'mu': 0}, components='uy')\n",
    "plt.gcf().savefig(nome + '_uy.pdf', format='pdf')"
   ]
  },
  {
   "cell_type": "code",
   "execution_count": null,
   "id": "6f37b061-927d-483b-8d5c-bb13363abb8d",
   "metadata": {},
   "outputs": [],
   "source": [
    "plotter = Plotter()\n",
    "plotter.plot(pinn, fixed_variables={'mu': 0}, components='p')\n",
    "plt.gcf().savefig(nome + '_p.pdf', format='pdf')"
   ]
  },
  {
   "cell_type": "code",
   "execution_count": null,
   "id": "28ec44e8-dca1-4974-8acd-95dbd8734d1f",
   "metadata": {},
   "outputs": [],
   "source": [
    "plotter = Plotter()\n",
    "plotter.plot(pinn, fixed_variables={'mu': 0}, components='r')\n",
    "plt.gcf().savefig(nome + '_r.pdf', format='pdf')"
   ]
  },
  {
   "cell_type": "code",
   "execution_count": null,
   "id": "d151dae1-9255-4c88-be4d-2547b80c7401",
   "metadata": {},
   "outputs": [],
   "source": [
    "plotter = Plotter()\n",
    "plotter.plot(pinn, fixed_variables={'mu': 0}, components='zx')\n",
    "plt.gcf().savefig(nome + '_zx.pdf', format='pdf')"
   ]
  },
  {
   "cell_type": "code",
   "execution_count": null,
   "id": "3129e992-d4cb-42b8-abb4-c9dceb78e5f1",
   "metadata": {},
   "outputs": [],
   "source": [
    "plotter = Plotter()\n",
    "plotter.plot(pinn, fixed_variables={'mu': 0}, components='zy')\n",
    "plt.gcf().savefig(nome + '_zy.pdf', format='pdf')"
   ]
  },
  {
   "cell_type": "markdown",
   "id": "51a8d517-aba5-4b21-a4a8-1ba3f9c70e2c",
   "metadata": {},
   "source": [
    "# Loss"
   ]
  },
  {
   "cell_type": "code",
   "execution_count": null,
   "id": "e83d2f2f-a490-4e5e-82e3-87a9263a0703",
   "metadata": {},
   "outputs": [],
   "source": [
    "#Qui salvo la loss function\n",
    "andamento_loss = trainer._model.lossVec\n",
    "def salva_variabile(file, variabile):\n",
    "    with open(file, 'w') as f:\n",
    "        f.write(repr(variabile))\n",
    "\n",
    "# Chiama la funzione per salvare la variabile\n",
    "salva_variabile('loss_'+ nome +'.txt', andamento_loss)\n",
    "\n",
    "# Grafico loss\n",
    "plt.loglog(andamento_loss)\n",
    "plt.gcf().savefig(nome + 'grafico_loss.pdf', format='pdf') # Qui per salvare il grafico della loss"
   ]
  }
 ],
 "metadata": {
  "kernelspec": {
   "display_name": "Python 3 (ipykernel)",
   "language": "python",
   "name": "python3"
  },
  "language_info": {
   "codemirror_mode": {
    "name": "ipython",
    "version": 3
   },
   "file_extension": ".py",
   "mimetype": "text/x-python",
   "name": "python",
   "nbconvert_exporter": "python",
   "pygments_lexer": "ipython3",
   "version": "3.9.19"
  }
 },
 "nbformat": 4,
 "nbformat_minor": 5
}
