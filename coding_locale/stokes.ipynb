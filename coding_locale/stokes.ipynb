{
 "cells": [
  {
   "cell_type": "code",
   "execution_count": 1,
   "id": "45ea8030-1acc-4f8c-9268-34d595d1e209",
   "metadata": {},
   "outputs": [],
   "source": [
    "import torch\n",
    "from pina.problem import SpatialProblem\n",
    "from pina.operators import laplacian, grad, div\n",
    "from pina import Condition, LabelTensor\n",
    "from pina.geometry import CartesianDomain\n",
    "from pina.equation import SystemEquation, Equation\n",
    "from pina.model import MultiFeedForward\n",
    "\n",
    "import argparse\n",
    "from torch.nn import Softplus\n",
    "\n",
    "from pina import Plotter, Trainer\n",
    "from pina.model import FeedForward\n",
    "from pina.solvers import PINN"
   ]
  },
  {
   "cell_type": "code",
   "execution_count": 3,
   "id": "8f0a16c8-3058-44f2-a379-e53e3ce47080",
   "metadata": {},
   "outputs": [],
   "source": [
    "\"\"\" Navier Stokes Problem \"\"\"\n",
    "# ===================================================== #\n",
    "#                                                       #\n",
    "#  This script implements the two dimensional           #\n",
    "#  Stokes problem. The Stokes class is defined          #\n",
    "#  inheriting from SpatialProblem. We  denote:          #\n",
    "#           ux --> field variable velocity along x      #\n",
    "#           uy --> field variable velocity along y      #\n",
    "#           p --> field variable pressure               #\n",
    "#           x,y --> spatial variables                   #\n",
    "#                                                       #\n",
    "# ===================================================== #\n",
    "mu = 1\n",
    "alfa = 0.008\n",
    "\n",
    "class Stokes(SpatialProblem):\n",
    "\n",
    "    # assign output/ spatial variables\n",
    "    output_variables = ['vx', 'vy', 'p', 'ux', 'uy', 'r', 'zx', 'zy'] #vx, vy is the 2-dim state variable, #ux, uy is the 2-dim control variable. \n",
    "    #r è la variabile aggiunta della pressione, z è la aggiunta del campo di velocità\n",
    "    spatial_domain = CartesianDomain({'x': [0, 1], 'y': [0, 2]})\n",
    "    alfa = 0.008\n",
    "\n",
    "\n",
    "    #PDE\n",
    "    #See eq 4.12 of DEMO STRAZZULLO ROZZA\n",
    "    #L'equazione numero 5 posso metterla nel forward esattamente come per il problema parametrico ellittico\n",
    "    \n",
    "    def momentum_ad(input_, output_):\n",
    "        shape = list(output_.extract(['vx']).size())\n",
    "        delta_ = torch.hstack((LabelTensor(laplacian(output_.extract(['zx']), input_), ['x']),\n",
    "            LabelTensor(laplacian(output_.extract(['zy']), input_), ['y']))) #questo è il laplaciano\n",
    "        return -0.1*delta_ + grad(output_.extract(['r']), input_) - torch.hstack((input_.extract(['y']) - output_.extract(['vx']), torch.zeros(shape[0],shape[1])))\n",
    "    def continuity_ad(input_, output_):\n",
    "        return div(output_.extract(['zx', 'zy']), input_)\n",
    "\n",
    "    #BOUNDARY CONDITIONS on adjuncted variables\n",
    "    #Dirichlet\n",
    "    def dirichlet1_ad(input_, output_):\n",
    "        return output_.extract(['zx'])\n",
    "    def dirichlet2_ad(input_, output_):\n",
    "        return output_.extract(['zy'])\n",
    "    #Neumann\n",
    "    def neumann1_ad(input_, output_):\n",
    "        shape = list(output_.extract(['r']).size())\n",
    "        return torch.hstack((-output_.extract(['r']), torch.zeros(shape[0],shape[1]))) + 0.1*torch.hstack((grad(output_.extract(['zx']), input_, d=['x']), torch.zeros(shape[0],shape[1]) ))\n",
    "    def neumann2_ad(input_, output_):\n",
    "        return output_.extract(['zy'])\n",
    "\n",
    "    ############################################################################\n",
    "    \n",
    "    #Momentum Equation\n",
    "    def momentum(input_, output_):\n",
    "        shape = list(output_.extract(['vx']).size())\n",
    "        delta_ = torch.hstack((LabelTensor(laplacian(output_.extract(['vx']), input_), ['x']),\n",
    "            LabelTensor(laplacian(output_.extract(['vy']), input_), ['y']))) #questo è il laplaciano\n",
    "        return - 0.1 * delta_ + grad(output_.extract(['p']), input_) - torch.hstack((output_.extract(['ux']), output_.extract(['uy']))) - torch.hstack((torch.zeros(shape[0],shape[1]), -mu*torch.ones(shape[0],shape[1])))\n",
    "    #Continuity equation\n",
    "    def continuity(input_, output_):\n",
    "        return div(output_.extract(['vx', 'vy']), input_)\n",
    "\n",
    "    \n",
    "    #BOUNDARY CONDITIONS on principal variable\n",
    "    #Dirichlet\n",
    "    def dirichlet1(input_, output_):\n",
    "        return output_.extract(['vx']) - input_.extract(['y'])\n",
    "    def dirichlet2(input_,output_):\n",
    "        return output_.extract(['vy'])\n",
    "    #Neumann\n",
    "    def neumann1(input_, output_):\n",
    "        shape = list(output_.extract(['p']).size())\n",
    "        return torch.hstack((-output_.extract(['p']), torch.zeros(shape[0],shape[1]))) + 0.1*torch.hstack((grad(output_.extract(['vx']), input_, d=['x']), torch.zeros(shape[0],shape[1])))\n",
    "    def neumann2(input_, output_):\n",
    "        return output_.extract(['vy'])\n",
    "\n",
    "    \n",
    "    #Problem Statement\n",
    "    conditions = {\n",
    "        'gamma_above': Condition(location=CartesianDomain({'x': [0, 1], 'y':  2}), equation=SystemEquation([dirichlet1, dirichlet2, dirichlet1_ad, dirichlet2_ad])), #Dirichlet\n",
    "        'gamma_left': Condition(location=CartesianDomain({'x': 0, 'y': [0, 2]}), equation=SystemEquation([dirichlet1, dirichlet2, dirichlet1_ad, dirichlet2_ad])), #Dirichlet\n",
    "        'gamma_below': Condition(location=CartesianDomain({'x':  [0, 1], 'y': 0}), equation=SystemEquation([dirichlet1, dirichlet2, dirichlet1_ad, dirichlet2_ad])), #Dirichlet\n",
    "        'gamma_right':  Condition(location=CartesianDomain({'x': 1, 'y': [0, 2]}), equation=SystemEquation([neumann1, neumann2, neumann1_ad, neumann2_ad])), #Neumann\n",
    "        'D': Condition(location=CartesianDomain({'x': [0, 1], 'y': [0, 2]}), equation=SystemEquation([momentum, continuity, momentum_ad, continuity_ad]))\n",
    "    }\n"
   ]
  },
  {
   "cell_type": "code",
   "execution_count": 4,
   "id": "7aac44a9-9b41-431d-b389-004161eb319a",
   "metadata": {},
   "outputs": [
    {
     "name": "stderr",
     "output_type": "stream",
     "text": [
      "GPU available: False, used: False\n",
      "TPU available: False, using: 0 TPU cores\n",
      "IPU available: False, using: 0 IPUs\n",
      "HPU available: False, using: 0 HPUs\n",
      "C:\\Users\\Andrea\\anaconda3\\envs\\PINA2\\lib\\site-packages\\pytorch_lightning\\trainer\\connectors\\logger_connector\\logger_connector.py:67: UserWarning: Starting from v1.9.0, `tensorboardX` has been removed as a dependency of the `pytorch_lightning` package, due to potential conflicts with other packages in the ML ecosystem. For this reason, `logger=True` will use `CSVLogger` as the default logger, unless the `tensorboard` or `tensorboardX` packages are found. Please `pip install lightning[extra]` or one of them to enable TensorBoard support by default\n",
      "  warning_cache.warn(\n",
      "\n",
      "  | Name        | Type    | Params\n",
      "----------------------------------------\n",
      "0 | _loss       | MSELoss | 0     \n",
      "1 | _neural_net | Network | 5.3 K \n",
      "----------------------------------------\n",
      "5.3 K     Trainable params\n",
      "0         Non-trainable params\n",
      "5.3 K     Total params\n",
      "0.021     Total estimated model params size (MB)\n",
      "C:\\Users\\Andrea\\anaconda3\\envs\\PINA2\\lib\\site-packages\\pytorch_lightning\\loops\\fit_loop.py:280: PossibleUserWarning: The number of training batches (1) is smaller than the logging interval Trainer(log_every_n_steps=50). Set a lower value for log_every_n_steps if you want to see logs for the training epoch.\n",
      "  rank_zero_warn(\n"
     ]
    },
    {
     "name": "stdout",
     "output_type": "stream",
     "text": [
      "Epoch 0:   0%|          | 0/1 [00:00<?, ?it/s] sono nel forward\n",
      "sono nel forward\n",
      "sono nel forward\n",
      "sono nel forward\n",
      "sono nel forward\n",
      "Epoch 1:   0%|          | 0/1 [00:00<?, ?it/s, v_num=46, gamma_above_loss=0.463, gamma_left_loss=0.206, gamma_below_loss=0.0325, gamma_right_loss=0.0106, D_loss=0.011, mean_loss=0.145]        sono nel forward\n",
      "sono nel forward\n",
      "sono nel forward\n",
      "sono nel forward\n",
      "sono nel forward\n",
      "Epoch 2:   0%|          | 0/1 [00:00<?, ?it/s, v_num=46, gamma_above_loss=0.463, gamma_left_loss=0.206, gamma_below_loss=0.0325, gamma_right_loss=0.0106, D_loss=0.011, mean_loss=0.145]        sono nel forward\n",
      "sono nel forward\n",
      "sono nel forward\n",
      "sono nel forward\n",
      "sono nel forward\n",
      "Epoch 3:   0%|          | 0/1 [00:00<?, ?it/s, v_num=46, gamma_above_loss=0.463, gamma_left_loss=0.206, gamma_below_loss=0.0325, gamma_right_loss=0.0106, D_loss=0.011, mean_loss=0.145]        sono nel forward\n",
      "sono nel forward\n",
      "sono nel forward\n",
      "sono nel forward\n",
      "sono nel forward\n",
      "Epoch 4:   0%|          | 0/1 [00:00<?, ?it/s, v_num=46, gamma_above_loss=0.463, gamma_left_loss=0.206, gamma_below_loss=0.0325, gamma_right_loss=0.0106, D_loss=0.011, mean_loss=0.145]        sono nel forward\n",
      "sono nel forward\n",
      "sono nel forward\n",
      "sono nel forward\n",
      "sono nel forward\n",
      "Epoch 4: 100%|██████████| 1/1 [00:00<00:00,  4.75it/s, v_num=46, gamma_above_loss=0.463, gamma_left_loss=0.206, gamma_below_loss=0.0325, gamma_right_loss=0.0106, D_loss=0.011, mean_loss=0.145]"
     ]
    },
    {
     "name": "stderr",
     "output_type": "stream",
     "text": [
      "`Trainer.fit` stopped: `max_epochs=5` reached.\n"
     ]
    },
    {
     "name": "stdout",
     "output_type": "stream",
     "text": [
      "Epoch 4: 100%|██████████| 1/1 [00:00<00:00,  4.44it/s, v_num=46, gamma_above_loss=0.463, gamma_left_loss=0.206, gamma_below_loss=0.0325, gamma_right_loss=0.0106, D_loss=0.011, mean_loss=0.145]\n"
     ]
    }
   ],
   "source": [
    "class CustomMultiDFF(MultiFeedForward):\n",
    "\n",
    "    def __init__(self, dff_dict):\n",
    "        super().__init__(dff_dict)\n",
    "\n",
    "    #Questo si usa al posto della equazione che \"manca\", altrimenti viene male\n",
    "    def forward(self, x):\n",
    "        print(\"sono nel forward\")\n",
    "        alfa = 0.008\n",
    "        out = self.uu(x)\n",
    "        out.labels = ['vx', 'vy', 'p', 'ux', 'uy', 'r']\n",
    "        z = LabelTensor(alfa*out.extract(['ux', 'uy']), ['zx', 'zy'])\n",
    "        return out.append(z)\n",
    "     \n",
    "if __name__ == \"__main__\":\n",
    "\n",
    "    epochs = 5\n",
    "    parser = argparse.ArgumentParser(description=\"Run PINA\")\n",
    "    parser.add_argument(\"--load\", help=\"directory to save or load file\", type=str)\n",
    "    parser.add_argument(\"--epochs\", help=\"extra features\", type=int, default=epochs)\n",
    "    parser.add_argument('-f') #Serve per risolvere l'errore di sotto\n",
    "    args = parser.parse_args()\n",
    "    \n",
    "    # create problem and discretise domain\n",
    "    stokes_problem = Stokes()\n",
    "    stokes_problem.discretise_domain(n=1800, locations=['gamma_above', 'gamma_left', 'gamma_below', 'gamma_right'], mode = 'lh')\n",
    "    stokes_problem.discretise_domain(n=400, locations=['D'], mode = 'lh')\n",
    "\n",
    "    # make the model\n",
    "    model = CustomMultiDFF(\n",
    "        {'uu': {\n",
    "                'input_dimensions': 2,\n",
    "                'output_dimensions': 6,\n",
    "                'layers': [40, 40, 40, 40],\n",
    "                'func': Softplus, },})\n",
    "    \n",
    "    # make the pinn\n",
    "    pinn = PINN(stokes_problem, model, optimizer_kwargs={'lr' : 0.003})\n",
    "    \n",
    "    # create trainer\n",
    "    directory = 'pina.navier_stokes'\n",
    "    trainer = Trainer(solver=pinn, accelerator='cpu', max_epochs=args.epochs, default_root_dir=directory)\n",
    "    \n",
    "    \n",
    "    if args.load:\n",
    "        pinn = PINN.load_from_checkpoint(checkpoint_path=args.load, problem=stokes_problem, model=model)\n",
    "        plotter = Plotter()\n",
    "        plotter.plot(pinn, components='ux')\n",
    "        plotter.plot(pinn, components='uy')\n",
    "        plotter.plot(pinn, components='p')\n",
    "    else:\n",
    "        trainer.train()"
   ]
  },
  {
   "cell_type": "code",
   "execution_count": 53,
   "id": "34beb23a-c84f-4d38-b819-1761b64e4480",
   "metadata": {},
   "outputs": [
    {
     "ename": "RuntimeError",
     "evalue": "a Tensor with 2 elements cannot be converted to Scalar",
     "output_type": "error",
     "traceback": [
      "\u001b[1;31m---------------------------------------------------------------------------\u001b[0m",
      "\u001b[1;31mRuntimeError\u001b[0m                              Traceback (most recent call last)",
      "Cell \u001b[1;32mIn[53], line 1\u001b[0m\n\u001b[1;32m----> 1\u001b[0m \u001b[38;5;28mprint\u001b[39m(\u001b[43mtorch\u001b[49m\u001b[38;5;241;43m.\u001b[39;49m\u001b[43mtensor\u001b[49m\u001b[43m(\u001b[49m\u001b[43m[\u001b[49m\u001b[43m[\u001b[49m\u001b[38;5;241;43m1\u001b[39;49m\u001b[43m,\u001b[49m\u001b[38;5;241;43m2\u001b[39;49m\u001b[43m,\u001b[49m\u001b[38;5;241;43m3\u001b[39;49m\u001b[43m,\u001b[49m\u001b[38;5;241;43m4\u001b[39;49m\u001b[43m]\u001b[49m\u001b[43m,\u001b[49m\u001b[43m \u001b[49m\u001b[43m[\u001b[49m\u001b[38;5;241;43m1\u001b[39;49m\u001b[43m,\u001b[49m\u001b[38;5;241;43m2\u001b[39;49m\u001b[43m,\u001b[49m\u001b[38;5;241;43m3\u001b[39;49m\u001b[43m,\u001b[49m\u001b[38;5;241;43m4\u001b[39;49m\u001b[43m]\u001b[49m\u001b[43m]\u001b[49m\u001b[43m)\u001b[49m\u001b[43m[\u001b[49m\u001b[38;5;241;43m0\u001b[39;49m\u001b[43m:\u001b[49m\u001b[38;5;241;43m1\u001b[39;49m\u001b[43m,\u001b[49m\u001b[38;5;241;43m2\u001b[39;49m\u001b[43m:\u001b[49m\u001b[43m]\u001b[49m\u001b[38;5;241;43m.\u001b[39;49m\u001b[43mitem\u001b[49m\u001b[43m(\u001b[49m\u001b[43m)\u001b[49m)\n",
      "\u001b[1;31mRuntimeError\u001b[0m: a Tensor with 2 elements cannot be converted to Scalar"
     ]
    }
   ],
   "source": [
    "print(torch.tensor([[1,2,3,4], [1,2,3,4]])[0:1,2:].item())"
   ]
  },
  {
   "cell_type": "code",
   "execution_count": 40,
   "id": "2ddc0768-b95f-486f-a5cd-d04a1102614c",
   "metadata": {},
   "outputs": [
    {
     "data": {
      "text/plain": [
       "int"
      ]
     },
     "execution_count": 40,
     "metadata": {},
     "output_type": "execute_result"
    }
   ],
   "source": [
    "type(3)"
   ]
  },
  {
   "cell_type": "code",
   "execution_count": null,
   "id": "c25e6d70-7327-496c-82f7-19a1832b0f1d",
   "metadata": {},
   "outputs": [],
   "source": []
  }
 ],
 "metadata": {
  "kernelspec": {
   "display_name": "Python 3 (ipykernel)",
   "language": "python",
   "name": "python3"
  },
  "language_info": {
   "codemirror_mode": {
    "name": "ipython",
    "version": 3
   },
   "file_extension": ".py",
   "mimetype": "text/x-python",
   "name": "python",
   "nbconvert_exporter": "python",
   "pygments_lexer": "ipython3",
   "version": "3.9.19"
  }
 },
 "nbformat": 4,
 "nbformat_minor": 5
}
